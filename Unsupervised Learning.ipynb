{
 "cells": [
  {
   "cell_type": "markdown",
   "metadata": {},
   "source": [
    "# Course - Unsupervised Learning "
   ]
  },
  {
   "cell_type": "markdown",
   "metadata": {},
   "source": [
    "##### NOTE: \n",
    "1. Your code MUST execute without any errors. \n",
    "2. You can add more lines in your code as required."
   ]
  },
  {
   "cell_type": "markdown",
   "metadata": {},
   "source": [
    "## Section 1: Clustering: K-mean Clustering"
   ]
  },
  {
   "cell_type": "markdown",
   "metadata": {},
   "source": [
    "### Question 1 \n",
    "**The dataset is loaded for you. Perform the following tasks:**  \n",
    "1. The dataset contains milk composition from different mammals. You are required to cluster the observations using K mean clustering.  \n",
    "2. Plot out the distributions (histogram) of each of the variables (columns) and see how they behave.  \n",
    "3. Use k=3, 5, 10, 15, 20. Plot the sum of squares values as a chart and select the appropriate value of K. "
   ]
  },
  {
   "cell_type": "code",
   "execution_count": 9,
   "metadata": {},
   "outputs": [
    {
     "data": {
      "text/html": [
       "<table>\n",
       "<thead><tr><th scope=col>name</th><th scope=col>water</th><th scope=col>protein</th><th scope=col>fat</th><th scope=col>lactose</th><th scope=col>ash</th></tr></thead>\n",
       "<tbody>\n",
       "\t<tr><td>Horse    </td><td>90.1     </td><td>2.6      </td><td>1.0      </td><td>6.9      </td><td>0.35     </td></tr>\n",
       "\t<tr><td>Orangutan</td><td>88.5     </td><td>1.4      </td><td>3.5      </td><td>6.0      </td><td>0.24     </td></tr>\n",
       "\t<tr><td>Monkey   </td><td>88.4     </td><td>2.2      </td><td>2.7      </td><td>6.4      </td><td>0.18     </td></tr>\n",
       "\t<tr><td>Donkey   </td><td>90.3     </td><td>1.7      </td><td>1.4      </td><td>6.2      </td><td>0.40     </td></tr>\n",
       "\t<tr><td>Hippo    </td><td>90.4     </td><td>0.6      </td><td>4.5      </td><td>4.4      </td><td>0.10     </td></tr>\n",
       "\t<tr><td>Camel    </td><td>87.7     </td><td>3.5      </td><td>3.4      </td><td>4.8      </td><td>0.71     </td></tr>\n",
       "</tbody>\n",
       "</table>\n"
      ],
      "text/latex": [
       "\\begin{tabular}{r|llllll}\n",
       " name & water & protein & fat & lactose & ash\\\\\n",
       "\\hline\n",
       "\t Horse     & 90.1      & 2.6       & 1.0       & 6.9       & 0.35     \\\\\n",
       "\t Orangutan & 88.5      & 1.4       & 3.5       & 6.0       & 0.24     \\\\\n",
       "\t Monkey    & 88.4      & 2.2       & 2.7       & 6.4       & 0.18     \\\\\n",
       "\t Donkey    & 90.3      & 1.7       & 1.4       & 6.2       & 0.40     \\\\\n",
       "\t Hippo     & 90.4      & 0.6       & 4.5       & 4.4       & 0.10     \\\\\n",
       "\t Camel     & 87.7      & 3.5       & 3.4       & 4.8       & 0.71     \\\\\n",
       "\\end{tabular}\n"
      ],
      "text/markdown": [
       "\n",
       "| name | water | protein | fat | lactose | ash |\n",
       "|---|---|---|---|---|---|\n",
       "| Horse     | 90.1      | 2.6       | 1.0       | 6.9       | 0.35      |\n",
       "| Orangutan | 88.5      | 1.4       | 3.5       | 6.0       | 0.24      |\n",
       "| Monkey    | 88.4      | 2.2       | 2.7       | 6.4       | 0.18      |\n",
       "| Donkey    | 90.3      | 1.7       | 1.4       | 6.2       | 0.40      |\n",
       "| Hippo     | 90.4      | 0.6       | 4.5       | 4.4       | 0.10      |\n",
       "| Camel     | 87.7      | 3.5       | 3.4       | 4.8       | 0.71      |\n",
       "\n"
      ],
      "text/plain": [
       "  name      water protein fat lactose ash \n",
       "1 Horse     90.1  2.6     1.0 6.9     0.35\n",
       "2 Orangutan 88.5  1.4     3.5 6.0     0.24\n",
       "3 Monkey    88.4  2.2     2.7 6.4     0.18\n",
       "4 Donkey    90.3  1.7     1.4 6.2     0.40\n",
       "5 Hippo     90.4  0.6     4.5 4.4     0.10\n",
       "6 Camel     87.7  3.5     3.4 4.8     0.71"
      ]
     },
     "metadata": {},
     "output_type": "display_data"
    }
   ],
   "source": [
    "library(cluster.datasets)\n",
    "data(all.mammals.milk.1956)\n",
    "head(all.mammals.milk.1956)"
   ]
  },
  {
   "cell_type": "code",
   "execution_count": null,
   "metadata": {},
   "outputs": [],
   "source": []
  },
  {
   "cell_type": "code",
   "execution_count": null,
   "metadata": {},
   "outputs": [],
   "source": []
  },
  {
   "cell_type": "code",
   "execution_count": null,
   "metadata": {},
   "outputs": [],
   "source": []
  },
  {
   "cell_type": "markdown",
   "metadata": {},
   "source": [
    "### Good Job! You are done with the section!"
   ]
  },
  {
   "cell_type": "markdown",
   "metadata": {},
   "source": [
    "## Section 2: Clustering: Hierarchal Clustering"
   ]
  },
  {
   "cell_type": "markdown",
   "metadata": {},
   "source": [
    "### Question 1 \n",
    "**The dataset is loaded for you. Perform the following tasks:**  \n",
    "You have data for price. indices from EU stock market. You wish to pair trade the values and would like to find out two correlated indices that you can trade. In order to select a pair, you need to perform heirarchal clustering and select the one with minimum distance.  \n",
    "1. Compute returns (percent change) of all indices and store in a variable called returns.  \n",
    "2. Construct correlation matrix using returns and plot out the correlation plot.  \n",
    "2. Create heirarchal clustering using returns and plot a dendegram diagram to figure out which two of the indices can be used for pairs trading.  "
   ]
  },
  {
   "cell_type": "code",
   "execution_count": 13,
   "metadata": {},
   "outputs": [
    {
     "data": {
      "text/html": [
       "<table>\n",
       "<thead><tr><th scope=col>DAX</th><th scope=col>SMI</th><th scope=col>CAC</th><th scope=col>FTSE</th></tr></thead>\n",
       "<tbody>\n",
       "\t<tr><td>1628.75</td><td>1678.1 </td><td>1772.8 </td><td>2443.6 </td></tr>\n",
       "\t<tr><td>1613.63</td><td>1688.5 </td><td>1750.5 </td><td>2460.2 </td></tr>\n",
       "\t<tr><td>1606.51</td><td>1678.6 </td><td>1718.0 </td><td>2448.2 </td></tr>\n",
       "\t<tr><td>1621.04</td><td>1684.1 </td><td>1708.1 </td><td>2470.4 </td></tr>\n",
       "\t<tr><td>1618.16</td><td>1686.6 </td><td>1723.1 </td><td>2484.7 </td></tr>\n",
       "\t<tr><td>1610.61</td><td>1671.6 </td><td>1714.3 </td><td>2466.8 </td></tr>\n",
       "</tbody>\n",
       "</table>\n"
      ],
      "text/latex": [
       "\\begin{tabular}{llll}\n",
       " DAX & SMI & CAC & FTSE\\\\\n",
       "\\hline\n",
       "\t 1628.75 & 1678.1  & 1772.8  & 2443.6 \\\\\n",
       "\t 1613.63 & 1688.5  & 1750.5  & 2460.2 \\\\\n",
       "\t 1606.51 & 1678.6  & 1718.0  & 2448.2 \\\\\n",
       "\t 1621.04 & 1684.1  & 1708.1  & 2470.4 \\\\\n",
       "\t 1618.16 & 1686.6  & 1723.1  & 2484.7 \\\\\n",
       "\t 1610.61 & 1671.6  & 1714.3  & 2466.8 \\\\\n",
       "\\end{tabular}\n"
      ],
      "text/markdown": [
       "\n",
       "| DAX | SMI | CAC | FTSE |\n",
       "|---|---|---|---|\n",
       "| 1628.75 | 1678.1  | 1772.8  | 2443.6  |\n",
       "| 1613.63 | 1688.5  | 1750.5  | 2460.2  |\n",
       "| 1606.51 | 1678.6  | 1718.0  | 2448.2  |\n",
       "| 1621.04 | 1684.1  | 1708.1  | 2470.4  |\n",
       "| 1618.16 | 1686.6  | 1723.1  | 2484.7  |\n",
       "| 1610.61 | 1671.6  | 1714.3  | 2466.8  |\n",
       "\n"
      ],
      "text/plain": [
       "     DAX     SMI    CAC    FTSE  \n",
       "[1,] 1628.75 1678.1 1772.8 2443.6\n",
       "[2,] 1613.63 1688.5 1750.5 2460.2\n",
       "[3,] 1606.51 1678.6 1718.0 2448.2\n",
       "[4,] 1621.04 1684.1 1708.1 2470.4\n",
       "[5,] 1618.16 1686.6 1723.1 2484.7\n",
       "[6,] 1610.61 1671.6 1714.3 2466.8"
      ]
     },
     "metadata": {},
     "output_type": "display_data"
    }
   ],
   "source": [
    "library(datasets)\n",
    "head(EuStockMarkets)"
   ]
  },
  {
   "cell_type": "code",
   "execution_count": null,
   "metadata": {},
   "outputs": [],
   "source": []
  },
  {
   "cell_type": "code",
   "execution_count": null,
   "metadata": {},
   "outputs": [],
   "source": []
  },
  {
   "cell_type": "code",
   "execution_count": null,
   "metadata": {},
   "outputs": [],
   "source": []
  },  
  {
   "cell_type": "markdown",
   "metadata": {},
   "source": [
    "## Good Job! You are done with the course!"
   ]
  }
 ],
 "metadata": {
  "kernelspec": {
   "display_name": "R",
   "language": "R",
   "name": "ir"
  },
  "language_info": {
   "codemirror_mode": "r",
   "file_extension": ".r",
   "mimetype": "text/x-r-source",
   "name": "R",
   "pygments_lexer": "r",
   "version": "3.6.1"
  }
 },
 "nbformat": 4,
 "nbformat_minor": 4
}
